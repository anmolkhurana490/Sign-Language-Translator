{
  "cells": [
    {
      "cell_type": "markdown",
      "metadata": {
        "colab_type": "text",
        "id": "view-in-github"
      },
      "source": [
        "<a href=\"https://colab.research.google.com/github/anmolkhurana490/Sign-Language-Translator/blob/main/model_training/Gloss_To_Text_Generation.ipynb\" target=\"_parent\"><img src=\"https://colab.research.google.com/assets/colab-badge.svg\" alt=\"Open In Colab\"/></a>"
      ]
    },
    {
      "cell_type": "code",
      "execution_count": null,
      "metadata": {},
      "outputs": [],
      "source": [
        "!pip install openai"
      ]
    },
    {
      "cell_type": "code",
      "execution_count": 7,
      "metadata": {
        "id": "CjzJga9Rjvwk"
      },
      "outputs": [],
      "source": [
        "# from transformers import pipeline \n",
        "from openai import OpenAI"
      ]
    },
    {
      "cell_type": "code",
      "execution_count": 8,
      "metadata": {},
      "outputs": [],
      "source": [
        "client = OpenAI(\n",
        "  base_url=\"https://openrouter.ai/api/v1\",\n",
        "  api_key='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',\n",
        ")"
      ]
    },
    {
      "cell_type": "code",
      "execution_count": 9,
      "metadata": {
        "id": "fFu6gzECshrF"
      },
      "outputs": [],
      "source": [
        "# from google.colab import userdata\n",
        "# hf_token = userdata.get('hf_token')"
      ]
    },
    {
      "cell_type": "code",
      "execution_count": 10,
      "metadata": {
        "id": "Th1lsJmlTszL"
      },
      "outputs": [],
      "source": [
        "# from huggingface_hub import login\n",
        "# login(hf_token)"
      ]
    },
    {
      "cell_type": "code",
      "execution_count": 11,
      "metadata": {
        "colab": {
          "base_uri": "https://localhost:8080/",
          "height": 66,
          "referenced_widgets": [
            "f1621b87fe044f6dab8050930b246165",
            "9c23d69777f1443799b5e0237f374926",
            "9f7dc589b3604858a873f9bcecc3a3d3",
            "da5124ef79b64a6e819dee63a31645ea",
            "b1a1e70fe3a44ba4ada38c18e402767f",
            "5e61fa06647f48a79b544b545079d106",
            "5c10958280c5478f96284c439b7ae5c0",
            "c42141ee06764634a09d6503a7ec8435",
            "9799242fe7c74876b660747d5e9aa922",
            "0b2ebfab5aa04f698f55554151e08c9b",
            "80d23491e0464fb393377950c7492798"
          ]
        },
        "id": "f0QYyR_oSK6a",
        "outputId": "e2e8d345-5d74-4c82-bd81-0863136ca4ad"
      },
      "outputs": [],
      "source": [
        "# generator = pipeline(task='text-generation', model=\"meta-llama/Llama-3.2-3B-Instruct\")"
      ]
    },
    {
      "cell_type": "code",
      "execution_count": 21,
      "metadata": {},
      "outputs": [],
      "source": [
        "def generator(prompt, max_new_tokens=50):\n",
        "    response = client.chat.completions.create(\n",
        "      model=\"meta-llama/Llama-3.2-3B-Instruct\",\n",
        "      messages = [\n",
        "        {\n",
        "          \"role\": \"user\",\n",
        "          \"content\": prompt\n",
        "        }\n",
        "      ],\n",
        "      max_tokens=max_new_tokens,\n",
        "      temperature=0.7,\n",
        "    )\n",
        "\n",
        "    return response.choices[0].message.content"
      ]
    },
    {
      "cell_type": "code",
      "execution_count": 22,
      "metadata": {
        "colab": {
          "base_uri": "https://localhost:8080/"
        },
        "id": "FrKSzKIBlQsV",
        "outputId": "66793d09-c214-4452-b4e4-a97bc219041a"
      },
      "outputs": [
        {
          "name": "stdout",
          "output_type": "stream",
          "text": [
            "I love reading books.\n"
          ]
        }
      ],
      "source": [
        "gloss_input = \"i/my/mine/me love/like books\"\n",
        "prompt = f'Convert tokens into a natural English sentence.\\nGloss: {gloss_input}\\nSentence:'\n",
        "\n",
        "output = generator(prompt, max_new_tokens=50)\n",
        "print(output)"
      ]
    },
    {
      "cell_type": "code",
      "execution_count": 23,
      "metadata": {
        "colab": {
          "base_uri": "https://localhost:8080/"
        },
        "id": "73Dw6VurnBUr",
        "outputId": "74379ec3-3c82-4ddc-9bce-9b9cd30e6c6f"
      },
      "outputs": [
        {
          "name": "stdout",
          "output_type": "stream",
          "text": [
            "I love reading books.\n"
          ]
        }
      ],
      "source": [
        "if prompt in output:\n",
        "    print(output.replace(prompt, '').strip())\n",
        "else:\n",
        "    print(output.strip())"
      ]
    },
    {
      "cell_type": "code",
      "execution_count": 25,
      "metadata": {
        "id": "lkvLeY13bdRD"
      },
      "outputs": [],
      "source": [
        "def generate_text(gloss_input, last_text=''):\n",
        "    instruct = 'You are a gloss-to-English converter. Output only the sentence using only the gloss token. No need to complete it with additional words. No explanations.'\n",
        "    prompt = f'{instruct}\\nGloss: {gloss_input}\\nSentence:'\n",
        "\n",
        "    max_tokens = len(gloss_input.split()) + len(prompt.split())\n",
        "\n",
        "    output = generator(prompt, max_new_tokens=max_tokens)\n",
        "\n",
        "    if prompt in output:\n",
        "        output = output.replace(prompt, '').strip()\n",
        "    if '(' in output:\n",
        "        output = output.split('(')[0].strip()\n",
        "    else:\n",
        "        output = output.strip()\n",
        "\n",
        "    output = output.replace('_', ' ').strip()\n",
        "    return output.split('\\n')[0]"
      ]
    },
    {
      "cell_type": "code",
      "execution_count": 26,
      "metadata": {
        "colab": {
          "base_uri": "https://localhost:8080/",
          "height": 36
        },
        "id": "GtgTzZUAbw09",
        "outputId": "0b5718ff-c119-4129-adc8-bdc5ca3b2724"
      },
      "outputs": [
        {
          "data": {
            "text/plain": [
              "'I love reading'"
            ]
          },
          "execution_count": 26,
          "metadata": {},
          "output_type": "execute_result"
        }
      ],
      "source": [
        "gloss_input = \"me love books\"\n",
        "generate_text(gloss_input)"
      ]
    },
    {
      "cell_type": "code",
      "execution_count": 27,
      "metadata": {
        "colab": {
          "base_uri": "https://localhost:8080/",
          "height": 36
        },
        "id": "oyeNI5V-b4Ms",
        "outputId": "74c269f2-6d6c-4c04-afcc-aa23f3836352"
      },
      "outputs": [
        {
          "data": {
            "text/plain": [
              "'he would be coming today'"
            ]
          },
          "execution_count": 27,
          "metadata": {},
          "output_type": "execute_result"
        }
      ],
      "source": [
        "gloss_input = \"he would be coming today COLLEGE TRAIN\"\n",
        "generate_text(gloss_input)"
      ]
    },
    {
      "cell_type": "code",
      "execution_count": 28,
      "metadata": {
        "colab": {
          "base_uri": "https://localhost:8080/",
          "height": 36
        },
        "id": "zI5cl4-bKVr8",
        "outputId": "343599d6-1656-4cae-91b9-2e950b40745b"
      },
      "outputs": [
        {
          "data": {
            "text/plain": [
              "'HELLO HOW ARE YOU'"
            ]
          },
          "execution_count": 28,
          "metadata": {},
          "output_type": "execute_result"
        }
      ],
      "source": [
        "gloss_input = \"HELLO HOW YOU/YOUR FEEL TODAY\"\n",
        "generate_text(gloss_input)"
      ]
    },
    {
      "cell_type": "code",
      "execution_count": 29,
      "metadata": {
        "colab": {
          "base_uri": "https://localhost:8080/"
        },
        "id": "0PJnAEwfdHpr",
        "outputId": "2f520828-2e4b-4c47-ec36-69ea85c5d604"
      },
      "outputs": [
        {
          "name": "stdout",
          "output_type": "stream",
          "text": [
            "HELLO HOW YOU/YOUR FEEL TODAY -> HELLO HOW YOU/YOUR FEEL TODAY\n",
            "I/ME THINK FUTURE CAREER PLAN -> I/ME THINK FUTURE CAREER PLAN\n",
            "YOU/YOUR LIKE/LOVE BOOK_READ OR MOVIE/FILM -> You like your book or movie/film.\n",
            "FRIEND/COMPANION INVITE PARTY WEEKEND -> FRIEND/COMPANION INVITE PARTY WEEKEND\n",
            "I/ME/MINE/MY WANT/NEED TRAVEL VISIT NEW CITY -> I WANT TO VISIT NEW CITY\n",
            "YESTERDAY RAIN WEATHER BAD STILL I/ME/MINE/MY GO SCHOOL -> YESTERDAY RAIN WEATHER BAD STILL I GO SCHOOL\n",
            "TOMORROW I/ME PLAN STUDY EXAM PREPARE -> I plan to study for my exam tomorrow\n",
            "FAMILY SUPPORT/HELP ME DECISION CAREER -> I need family support to help me make a decision about my career.\n",
            "YOU/YOUR CAN PLAY GAME SPORTS WITH FRIEND/COMPANION -> YOU CAN PLAY GAME SPORTS WITH FRIEND/COMPANION\n",
            "TIME NOW GO SLEEP BECAUSE TOMORROW EARLY WAKE -> TIME NOW GO SLEEP BECAUSE TOMORROW EARLY WAKE\n"
          ]
        }
      ],
      "source": [
        "input_texts = \"\"\"HELLO HOW YOU/YOUR FEEL TODAY\n",
        "I/ME THINK FUTURE CAREER PLAN\n",
        "YOU/YOUR LIKE/LOVE BOOK_READ OR MOVIE/FILM\n",
        "FRIEND/COMPANION INVITE PARTY WEEKEND\n",
        "I/ME/MINE/MY WANT/NEED TRAVEL VISIT NEW CITY\n",
        "YESTERDAY RAIN WEATHER BAD STILL I/ME/MINE/MY GO SCHOOL\n",
        "TOMORROW I/ME PLAN STUDY EXAM PREPARE\n",
        "FAMILY SUPPORT/HELP ME DECISION CAREER\n",
        "YOU/YOUR CAN PLAY GAME SPORTS WITH FRIEND/COMPANION\n",
        "TIME NOW GO SLEEP BECAUSE TOMORROW EARLY WAKE\"\"\"\n",
        "\n",
        "for sentence in input_texts.split('\\n'):\n",
        "    print(sentence + ' -> ' + generate_text(sentence))"
      ]
    },
    {
      "cell_type": "markdown",
      "metadata": {
        "id": "_fzxIP9tM558"
      },
      "source": [
        "Continuous Gloss to Text Generation"
      ]
    },
    {
      "cell_type": "code",
      "execution_count": 30,
      "metadata": {
        "id": "15jdOidH4Gz8"
      },
      "outputs": [],
      "source": [
        "import time\n",
        "from collections import deque"
      ]
    },
    {
      "cell_type": "code",
      "execution_count": 31,
      "metadata": {
        "id": "tgK6YxY3NVRU"
      },
      "outputs": [],
      "source": [
        "WINDOW_SIZE = 8\n",
        "MIN_TRIGGER = 4\n",
        "MAX_CONSUME = 6\n",
        "SILENCE_TIMEOUT = 3\n",
        "CONF_THRESHOLD = 0.7"
      ]
    },
    {
      "cell_type": "code",
      "execution_count": 32,
      "metadata": {
        "id": "GSPU1tQ1NZdM"
      },
      "outputs": [],
      "source": [
        "# Buffer Manager Class\n",
        "class GlossBuffer:\n",
        "  def __init__(self):\n",
        "    self.buffer = deque(maxlen=WINDOW_SIZE)\n",
        "    self.last_gloss_time = 0\n",
        "\n",
        "  def append_gloss(self, gloss):\n",
        "    curr_time = time.time()\n",
        "    self.update_buffer(curr_time)\n",
        "\n",
        "    if gloss not in self.get_buffer():\n",
        "      self.buffer.append((gloss, curr_time))\n",
        "\n",
        "    self.last_gloss_time = curr_time\n",
        "\n",
        "  def update_buffer(self, curr_time):\n",
        "    curr_time = time.time()\n",
        "    if curr_time - self.last_gloss_time > SILENCE_TIMEOUT:\n",
        "      self.buffer.clear()\n",
        "\n",
        "    while len(self.buffer) > 0 and self.buffer[0][1] < curr_time - SILENCE_TIMEOUT:\n",
        "      self.buffer.popleft()\n",
        "\n",
        "  def get_buffer(self):\n",
        "    return [t for t,c in self.buffer]\n",
        "\n",
        "  def get_gloss_text(self):\n",
        "    gloss_list = self.get_buffer()\n",
        "\n",
        "    if len(gloss_list) < MIN_TRIGGER:\n",
        "      return ''\n",
        "\n",
        "    # removing older glosses\n",
        "    if len(gloss_list) > MAX_CONSUME:\n",
        "      gloss_list = gloss_list[:MAX_CONSUME]\n",
        "\n",
        "    return ' '.join(gloss_list)"
      ]
    },
    {
      "cell_type": "code",
      "execution_count": 33,
      "metadata": {
        "id": "0ME62pktXXvp"
      },
      "outputs": [],
      "source": [
        "gloss_buffer = GlossBuffer()"
      ]
    },
    {
      "cell_type": "code",
      "execution_count": 34,
      "metadata": {
        "id": "51HIXhxioXfR"
      },
      "outputs": [],
      "source": [
        "text_buffer = deque(maxlen=WINDOW_SIZE//2)"
      ]
    },
    {
      "cell_type": "code",
      "execution_count": 35,
      "metadata": {
        "id": "6GN2_zBUeY0J"
      },
      "outputs": [],
      "source": [
        "text = \"HELLO_HI I_ME NAME ANMOL NICE MEET YOU HOW ARE YOU TODAY I_ME FEEL HAPPY BECAUSE WEATHER GOOD I_ME LIKE LOVE BOOK DO YOU LOVE ME READ I_ME PLAN FUTURE CAREER ENGINEER COMPUTER WHAT PLAN CAREER YOU YOU WANT STUDY WHERE UNIVERSITY DELHI OR MUMBAI I_ME THINK HARD WORK IMPORTANT SOMETIMES I_ME FEEL STRESS BUT FRIEND HELP THANK YOU SUPPORT NEXT WEEK I_ME TRAVEL DELHI TRAIN TICKET BOOK ALREADY I_ME LOVE FAMILY PARENTS SUPPORT WHAT TIME MEETING START PLEASE WAIT LITTLE SORRY I_ME LATE AFTER MEETING I_ME WANT MOVIE WATCH YOU LIKE MOVIE TOO WHICH MOVIE BEST FRIDAY NIGHT PLAN GOOD SEE YOU TOMORROW BYE\""
      ]
    },
    {
      "cell_type": "code",
      "execution_count": 36,
      "metadata": {
        "id": "YOvNyc5VcipA"
      },
      "outputs": [],
      "source": [
        "import random\n",
        "\n",
        "def generate_continue_text():\n",
        "  # gloss prediction simulation from given text\n",
        "  for gloss_input in text.split():\n",
        "    time.sleep(0.5)\n",
        "\n",
        "    gloss_input = gloss_input.split('_')[0]\n",
        "    gloss_buffer.append_gloss(gloss_input)\n",
        "\n",
        "    if random.random() < CONF_THRESHOLD:\n",
        "      continue\n",
        "\n",
        "    gloss_text = gloss_buffer.get_gloss_text()\n",
        "\n",
        "    if gloss_text != '':\n",
        "      text_list = list(text_buffer)\n",
        "      gen_text = generate_text(gloss_text, ' '.join(text_list))\n",
        "      text_buffer.extend(gen_text.split())\n",
        "      print(gen_text)"
      ]
    },
    {
      "cell_type": "code",
      "execution_count": 37,
      "metadata": {
        "colab": {
          "base_uri": "https://localhost:8080/"
        },
        "id": "yTEBC0PTdWSk",
        "outputId": "478eb8eb-1c07-4897-f3b2-8468ee9d9fd2"
      },
      "outputs": [
        {
          "name": "stdout",
          "output_type": "stream",
          "text": [
            "I name Anmol nice meet you\n",
            "HOW\n",
            "We are feeling happy because the weather is good.\n",
            "Do you love books?\n",
            "I plan my future\n",
            "What is your career as a computer engineer?\n",
            "MUMBAI I THINK HARD WORK IMPORTANT\n",
            "SOMETIMES I FEEL STRESS\n",
            "I feel stress\n",
            "I appreciate your assistance.\n",
            "FRIEND HELP THANK YOU SUPPORT\n",
            "NEXT WEEK I TRAVEL DELHI\n",
            "I travel to Delhi by train\n",
            "I already love this ticket book.\n",
            "Familien Eltern unterstützen\n",
            "I was late after the meeting.\n",
            "Which movie do you like better?\n"
          ]
        }
      ],
      "source": [
        "generate_continue_text()"
      ]
    },
    {
      "cell_type": "code",
      "execution_count": 38,
      "metadata": {
        "colab": {
          "base_uri": "https://localhost:8080/"
        },
        "id": "qrVt0Pzyd_0t",
        "outputId": "df506959-3738-4e0a-fee7-33b4aba7981a"
      },
      "outputs": [
        {
          "name": "stdout",
          "output_type": "stream",
          "text": [
            "I went to school yesterday despite the bad weather.\n",
            "Time taken: 2.2235300540924072 seconds\n"
          ]
        }
      ],
      "source": [
        "gloss_input = \"YESTERDAY RAIN WEATHER BAD STILL I/ME/MINE/MY GO SCHOOL\"\n",
        "\n",
        "# Measuring Time taken\n",
        "start_time = time.time()\n",
        "print(generate_text(gloss_input))\n",
        "print(f\"Time taken: {time.time() - start_time} seconds\")"
      ]
    },
    {
      "cell_type": "code",
      "execution_count": null,
      "metadata": {
        "id": "7C1SFhJrQRWT"
      },
      "outputs": [],
      "source": []
    }
  ],
  "metadata": {
    "accelerator": "GPU",
    "colab": {
      "gpuType": "T4",
      "include_colab_link": true,
      "provenance": []
    },
    "kernelspec": {
      "display_name": "Python 3",
      "name": "python3"
    },
    "language_info": {
      "codemirror_mode": {
        "name": "ipython",
        "version": 3
      },
      "file_extension": ".py",
      "mimetype": "text/x-python",
      "name": "python",
      "nbconvert_exporter": "python",
      "pygments_lexer": "ipython3",
      "version": "3.12.10"
    },
    "widgets": {
      "application/vnd.jupyter.widget-state+json": {
        "0b2ebfab5aa04f698f55554151e08c9b": {
          "model_module": "@jupyter-widgets/base",
          "model_module_version": "1.2.0",
          "model_name": "LayoutModel",
          "state": {
            "_model_module": "@jupyter-widgets/base",
            "_model_module_version": "1.2.0",
            "_model_name": "LayoutModel",
            "_view_count": null,
            "_view_module": "@jupyter-widgets/base",
            "_view_module_version": "1.2.0",
            "_view_name": "LayoutView",
            "align_content": null,
            "align_items": null,
            "align_self": null,
            "border": null,
            "bottom": null,
            "display": null,
            "flex": null,
            "flex_flow": null,
            "grid_area": null,
            "grid_auto_columns": null,
            "grid_auto_flow": null,
            "grid_auto_rows": null,
            "grid_column": null,
            "grid_gap": null,
            "grid_row": null,
            "grid_template_areas": null,
            "grid_template_columns": null,
            "grid_template_rows": null,
            "height": null,
            "justify_content": null,
            "justify_items": null,
            "left": null,
            "margin": null,
            "max_height": null,
            "max_width": null,
            "min_height": null,
            "min_width": null,
            "object_fit": null,
            "object_position": null,
            "order": null,
            "overflow": null,
            "overflow_x": null,
            "overflow_y": null,
            "padding": null,
            "right": null,
            "top": null,
            "visibility": null,
            "width": null
          }
        },
        "5c10958280c5478f96284c439b7ae5c0": {
          "model_module": "@jupyter-widgets/controls",
          "model_module_version": "1.5.0",
          "model_name": "DescriptionStyleModel",
          "state": {
            "_model_module": "@jupyter-widgets/controls",
            "_model_module_version": "1.5.0",
            "_model_name": "DescriptionStyleModel",
            "_view_count": null,
            "_view_module": "@jupyter-widgets/base",
            "_view_module_version": "1.2.0",
            "_view_name": "StyleView",
            "description_width": ""
          }
        },
        "5e61fa06647f48a79b544b545079d106": {
          "model_module": "@jupyter-widgets/base",
          "model_module_version": "1.2.0",
          "model_name": "LayoutModel",
          "state": {
            "_model_module": "@jupyter-widgets/base",
            "_model_module_version": "1.2.0",
            "_model_name": "LayoutModel",
            "_view_count": null,
            "_view_module": "@jupyter-widgets/base",
            "_view_module_version": "1.2.0",
            "_view_name": "LayoutView",
            "align_content": null,
            "align_items": null,
            "align_self": null,
            "border": null,
            "bottom": null,
            "display": null,
            "flex": null,
            "flex_flow": null,
            "grid_area": null,
            "grid_auto_columns": null,
            "grid_auto_flow": null,
            "grid_auto_rows": null,
            "grid_column": null,
            "grid_gap": null,
            "grid_row": null,
            "grid_template_areas": null,
            "grid_template_columns": null,
            "grid_template_rows": null,
            "height": null,
            "justify_content": null,
            "justify_items": null,
            "left": null,
            "margin": null,
            "max_height": null,
            "max_width": null,
            "min_height": null,
            "min_width": null,
            "object_fit": null,
            "object_position": null,
            "order": null,
            "overflow": null,
            "overflow_x": null,
            "overflow_y": null,
            "padding": null,
            "right": null,
            "top": null,
            "visibility": null,
            "width": null
          }
        },
        "80d23491e0464fb393377950c7492798": {
          "model_module": "@jupyter-widgets/controls",
          "model_module_version": "1.5.0",
          "model_name": "DescriptionStyleModel",
          "state": {
            "_model_module": "@jupyter-widgets/controls",
            "_model_module_version": "1.5.0",
            "_model_name": "DescriptionStyleModel",
            "_view_count": null,
            "_view_module": "@jupyter-widgets/base",
            "_view_module_version": "1.2.0",
            "_view_name": "StyleView",
            "description_width": ""
          }
        },
        "9799242fe7c74876b660747d5e9aa922": {
          "model_module": "@jupyter-widgets/controls",
          "model_module_version": "1.5.0",
          "model_name": "ProgressStyleModel",
          "state": {
            "_model_module": "@jupyter-widgets/controls",
            "_model_module_version": "1.5.0",
            "_model_name": "ProgressStyleModel",
            "_view_count": null,
            "_view_module": "@jupyter-widgets/base",
            "_view_module_version": "1.2.0",
            "_view_name": "StyleView",
            "bar_color": null,
            "description_width": ""
          }
        },
        "9c23d69777f1443799b5e0237f374926": {
          "model_module": "@jupyter-widgets/controls",
          "model_module_version": "1.5.0",
          "model_name": "HTMLModel",
          "state": {
            "_dom_classes": [],
            "_model_module": "@jupyter-widgets/controls",
            "_model_module_version": "1.5.0",
            "_model_name": "HTMLModel",
            "_view_count": null,
            "_view_module": "@jupyter-widgets/controls",
            "_view_module_version": "1.5.0",
            "_view_name": "HTMLView",
            "description": "",
            "description_tooltip": null,
            "layout": "IPY_MODEL_5e61fa06647f48a79b544b545079d106",
            "placeholder": "​",
            "style": "IPY_MODEL_5c10958280c5478f96284c439b7ae5c0",
            "value": "Loading checkpoint shards: 100%"
          }
        },
        "9f7dc589b3604858a873f9bcecc3a3d3": {
          "model_module": "@jupyter-widgets/controls",
          "model_module_version": "1.5.0",
          "model_name": "FloatProgressModel",
          "state": {
            "_dom_classes": [],
            "_model_module": "@jupyter-widgets/controls",
            "_model_module_version": "1.5.0",
            "_model_name": "FloatProgressModel",
            "_view_count": null,
            "_view_module": "@jupyter-widgets/controls",
            "_view_module_version": "1.5.0",
            "_view_name": "ProgressView",
            "bar_style": "success",
            "description": "",
            "description_tooltip": null,
            "layout": "IPY_MODEL_c42141ee06764634a09d6503a7ec8435",
            "max": 2,
            "min": 0,
            "orientation": "horizontal",
            "style": "IPY_MODEL_9799242fe7c74876b660747d5e9aa922",
            "value": 2
          }
        },
        "b1a1e70fe3a44ba4ada38c18e402767f": {
          "model_module": "@jupyter-widgets/base",
          "model_module_version": "1.2.0",
          "model_name": "LayoutModel",
          "state": {
            "_model_module": "@jupyter-widgets/base",
            "_model_module_version": "1.2.0",
            "_model_name": "LayoutModel",
            "_view_count": null,
            "_view_module": "@jupyter-widgets/base",
            "_view_module_version": "1.2.0",
            "_view_name": "LayoutView",
            "align_content": null,
            "align_items": null,
            "align_self": null,
            "border": null,
            "bottom": null,
            "display": null,
            "flex": null,
            "flex_flow": null,
            "grid_area": null,
            "grid_auto_columns": null,
            "grid_auto_flow": null,
            "grid_auto_rows": null,
            "grid_column": null,
            "grid_gap": null,
            "grid_row": null,
            "grid_template_areas": null,
            "grid_template_columns": null,
            "grid_template_rows": null,
            "height": null,
            "justify_content": null,
            "justify_items": null,
            "left": null,
            "margin": null,
            "max_height": null,
            "max_width": null,
            "min_height": null,
            "min_width": null,
            "object_fit": null,
            "object_position": null,
            "order": null,
            "overflow": null,
            "overflow_x": null,
            "overflow_y": null,
            "padding": null,
            "right": null,
            "top": null,
            "visibility": null,
            "width": null
          }
        },
        "c42141ee06764634a09d6503a7ec8435": {
          "model_module": "@jupyter-widgets/base",
          "model_module_version": "1.2.0",
          "model_name": "LayoutModel",
          "state": {
            "_model_module": "@jupyter-widgets/base",
            "_model_module_version": "1.2.0",
            "_model_name": "LayoutModel",
            "_view_count": null,
            "_view_module": "@jupyter-widgets/base",
            "_view_module_version": "1.2.0",
            "_view_name": "LayoutView",
            "align_content": null,
            "align_items": null,
            "align_self": null,
            "border": null,
            "bottom": null,
            "display": null,
            "flex": null,
            "flex_flow": null,
            "grid_area": null,
            "grid_auto_columns": null,
            "grid_auto_flow": null,
            "grid_auto_rows": null,
            "grid_column": null,
            "grid_gap": null,
            "grid_row": null,
            "grid_template_areas": null,
            "grid_template_columns": null,
            "grid_template_rows": null,
            "height": null,
            "justify_content": null,
            "justify_items": null,
            "left": null,
            "margin": null,
            "max_height": null,
            "max_width": null,
            "min_height": null,
            "min_width": null,
            "object_fit": null,
            "object_position": null,
            "order": null,
            "overflow": null,
            "overflow_x": null,
            "overflow_y": null,
            "padding": null,
            "right": null,
            "top": null,
            "visibility": null,
            "width": null
          }
        },
        "da5124ef79b64a6e819dee63a31645ea": {
          "model_module": "@jupyter-widgets/controls",
          "model_module_version": "1.5.0",
          "model_name": "HTMLModel",
          "state": {
            "_dom_classes": [],
            "_model_module": "@jupyter-widgets/controls",
            "_model_module_version": "1.5.0",
            "_model_name": "HTMLModel",
            "_view_count": null,
            "_view_module": "@jupyter-widgets/controls",
            "_view_module_version": "1.5.0",
            "_view_name": "HTMLView",
            "description": "",
            "description_tooltip": null,
            "layout": "IPY_MODEL_0b2ebfab5aa04f698f55554151e08c9b",
            "placeholder": "​",
            "style": "IPY_MODEL_80d23491e0464fb393377950c7492798",
            "value": " 2/2 [00:00&lt;00:00,  2.12it/s]"
          }
        },
        "f1621b87fe044f6dab8050930b246165": {
          "model_module": "@jupyter-widgets/controls",
          "model_module_version": "1.5.0",
          "model_name": "HBoxModel",
          "state": {
            "_dom_classes": [],
            "_model_module": "@jupyter-widgets/controls",
            "_model_module_version": "1.5.0",
            "_model_name": "HBoxModel",
            "_view_count": null,
            "_view_module": "@jupyter-widgets/controls",
            "_view_module_version": "1.5.0",
            "_view_name": "HBoxView",
            "box_style": "",
            "children": [
              "IPY_MODEL_9c23d69777f1443799b5e0237f374926",
              "IPY_MODEL_9f7dc589b3604858a873f9bcecc3a3d3",
              "IPY_MODEL_da5124ef79b64a6e819dee63a31645ea"
            ],
            "layout": "IPY_MODEL_b1a1e70fe3a44ba4ada38c18e402767f"
          }
        }
      }
    }
  },
  "nbformat": 4,
  "nbformat_minor": 0
}

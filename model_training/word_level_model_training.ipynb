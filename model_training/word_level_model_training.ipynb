{
  "cells": [
    {
      "cell_type": "markdown",
      "metadata": {
        "id": "view-in-github",
        "colab_type": "text"
      },
      "source": [
        "<a href=\"https://colab.research.google.com/github/anmolkhurana490/Sign-Language-Translator/blob/main/model_training/word_level_model_training.ipynb\" target=\"_parent\"><img src=\"https://colab.research.google.com/assets/colab-badge.svg\" alt=\"Open In Colab\"/></a>"
      ]
    },
    {
      "cell_type": "markdown",
      "source": [
        "Installing and Importing Necessary Libraries"
      ],
      "metadata": {
        "id": "C2kTu9Df0sAA"
      },
      "id": "C2kTu9Df0sAA"
    },
    {
      "cell_type": "code",
      "execution_count": null,
      "id": "4fcd0ad0",
      "metadata": {
        "id": "4fcd0ad0"
      },
      "outputs": [],
      "source": [
        "import torch\n",
        "import numpy as np\n",
        "import os\n",
        "import json"
      ]
    },
    {
      "cell_type": "code",
      "execution_count": null,
      "id": "ftP8wcJ0etiI",
      "metadata": {
        "colab": {
          "base_uri": "https://localhost:8080/"
        },
        "id": "ftP8wcJ0etiI",
        "outputId": "d7de9a8f-fe9c-4748-d0f4-cb596a679fff"
      },
      "outputs": [
        {
          "output_type": "stream",
          "name": "stdout",
          "text": [
            "cuda\n"
          ]
        }
      ],
      "source": [
        "device = torch.device('cuda' if torch.cuda.is_available() else 'cpu')\n",
        "print(device)"
      ]
    },
    {
      "cell_type": "markdown",
      "source": [
        "Data Importing from Drive"
      ],
      "metadata": {
        "id": "quWC8eTF0Xvk"
      },
      "id": "quWC8eTF0Xvk"
    },
    {
      "cell_type": "code",
      "execution_count": null,
      "id": "B6Iiy8SxcT89",
      "metadata": {
        "colab": {
          "base_uri": "https://localhost:8080/"
        },
        "id": "B6Iiy8SxcT89",
        "outputId": "800615fd-8d68-4b2b-f426-9b2ec7015599"
      },
      "outputs": [
        {
          "output_type": "stream",
          "name": "stdout",
          "text": [
            "Drive already mounted at /content/drive; to attempt to forcibly remount, call drive.mount(\"/content/drive\", force_remount=True).\n"
          ]
        }
      ],
      "source": [
        "from google.colab import drive\n",
        "drive.mount('/content/drive')"
      ]
    },
    {
      "cell_type": "markdown",
      "source": [
        "Data Preprocessing and Loading"
      ],
      "metadata": {
        "id": "P_RWrZPU0Pah"
      },
      "id": "P_RWrZPU0Pah"
    },
    {
      "cell_type": "code",
      "execution_count": null,
      "id": "4af3f176",
      "metadata": {
        "id": "4af3f176"
      },
      "outputs": [],
      "source": [
        "word_data_path = '/content/Sign-Language-Translator/Frames_Word_Level'"
      ]
    },
    {
      "cell_type": "code",
      "execution_count": null,
      "id": "8bf219c5",
      "metadata": {
        "colab": {
          "base_uri": "https://localhost:8080/"
        },
        "id": "8bf219c5",
        "outputId": "4ed72533-42f0-4c4e-f1f7-0b11ddeb9186"
      },
      "outputs": [
        {
          "output_type": "stream",
          "name": "stdout",
          "text": [
            "Number of classes: 114\n"
          ]
        }
      ],
      "source": [
        "def load_json(json_path):\n",
        "  with open(json_path, 'r') as f:\n",
        "    return json.load(f)\n",
        "\n",
        "classes = load_json('/content/drive/MyDrive/Sign-Language-Translator/data/word_class_names.json')\n",
        "num_classes = len(classes)\n",
        "print(\"Number of classes:\", num_classes)"
      ]
    },
    {
      "cell_type": "code",
      "execution_count": null,
      "id": "qW-arl6YFsEj",
      "metadata": {
        "id": "qW-arl6YFsEj"
      },
      "outputs": [],
      "source": [
        "from torch.utils.data import Dataset, DataLoader"
      ]
    },
    {
      "cell_type": "code",
      "execution_count": null,
      "id": "4GRygv8WH1dL",
      "metadata": {
        "id": "4GRygv8WH1dL"
      },
      "outputs": [],
      "source": [
        "class_to_label = {class_name: i for i, class_name in enumerate(classes)}\n",
        "label_to_class = {i: class_name for i, class_name in enumerate(classes)}"
      ]
    },
    {
      "cell_type": "code",
      "source": [
        "def load_saved_data(data_path, train_data):\n",
        "  if not os.path.exists(data_path):\n",
        "    return []\n",
        "\n",
        "  data_type = 'train' if train_data else 'test'\n",
        "  features, labels = torch.load(data_path)[data_type]\n",
        "  return list(zip(features, labels))"
      ],
      "metadata": {
        "id": "vL5UmeU568yg"
      },
      "id": "vL5UmeU568yg",
      "execution_count": null,
      "outputs": []
    },
    {
      "cell_type": "code",
      "source": [
        "data_path = '/content/drive/MyDrive/Sign-Language-Translator/data/preprocessed_word_level_data.pth'\n",
        "# data = load_saved_data(data_path, True)\n",
        "# data[0][0].shape, data[0][1]"
      ],
      "metadata": {
        "id": "8H7cm7KM62sU"
      },
      "id": "8H7cm7KM62sU",
      "execution_count": null,
      "outputs": []
    },
    {
      "cell_type": "code",
      "execution_count": null,
      "id": "mUvArlOtF1od",
      "metadata": {
        "id": "mUvArlOtF1od"
      },
      "outputs": [],
      "source": [
        "class HandGestureDataset(Dataset):\n",
        "    def __init__(self, saved_data_path='', train_data=False):\n",
        "        self.cache = dict(enumerate(load_saved_data(saved_data_path, train_data)))\n",
        "\n",
        "    def __len__(self):\n",
        "        return len(self.cache)\n",
        "\n",
        "    def __getitem__(self, idx):\n",
        "        cached_data = self.cache[idx]\n",
        "        features, label = cached_data\n",
        "        return features.to(torch.float32), class_to_label[label]\n",
        "\n",
        "def collate_fn(batch):\n",
        "  batch = list(filter(lambda x: x[0] is not None, batch))\n",
        "  images, label = zip(*batch)\n",
        "  return torch.stack(images), torch.tensor(label)"
      ]
    },
    {
      "cell_type": "code",
      "execution_count": null,
      "id": "e910dc5a",
      "metadata": {
        "id": "e910dc5a"
      },
      "outputs": [],
      "source": [
        "train_dataset = HandGestureDataset(saved_data_path=data_path, train_data=True)\n",
        "test_dataset = HandGestureDataset(saved_data_path=data_path, train_data=False)"
      ]
    },
    {
      "cell_type": "code",
      "execution_count": null,
      "id": "ZFgFefNaHZBi",
      "metadata": {
        "colab": {
          "base_uri": "https://localhost:8080/"
        },
        "id": "ZFgFefNaHZBi",
        "outputId": "9fedde08-991f-4f02-8479-00c29a937f07"
      },
      "outputs": [
        {
          "output_type": "execute_result",
          "data": {
            "text/plain": [
              "(26839, 207)"
            ]
          },
          "metadata": {},
          "execution_count": 12
        }
      ],
      "source": [
        "len(train_dataset), len(test_dataset)"
      ]
    },
    {
      "cell_type": "code",
      "execution_count": null,
      "id": "xd5145QpIrUY",
      "metadata": {
        "colab": {
          "base_uri": "https://localhost:8080/"
        },
        "id": "xd5145QpIrUY",
        "outputId": "0ee2519f-4fff-442b-f412-e4f1c32f85c2"
      },
      "outputs": [
        {
          "output_type": "execute_result",
          "data": {
            "text/plain": [
              "torch.Size([67, 4])"
            ]
          },
          "metadata": {},
          "execution_count": 13
        }
      ],
      "source": [
        "train_dataset[6][0].shape"
      ]
    },
    {
      "cell_type": "code",
      "execution_count": null,
      "id": "I5_dzjLDb-C4",
      "metadata": {
        "colab": {
          "base_uri": "https://localhost:8080/"
        },
        "id": "I5_dzjLDb-C4",
        "outputId": "6dbe9694-d7a9-497a-f325-1c20865012fa"
      },
      "outputs": [
        {
          "output_type": "stream",
          "name": "stdout",
          "text": [
            "Training dataset size: 26839\n",
            "Testing dataset size: 207\n"
          ]
        }
      ],
      "source": [
        "# Create DataLoaders for the training and testing datasets\n",
        "# Set num_workers to 0 to avoid CUDA re-initialization issues with multiprocessing\n",
        "train_dataloader = DataLoader(train_dataset, batch_size=1024, shuffle=True, collate_fn=collate_fn)\n",
        "test_dataloader = DataLoader(test_dataset, batch_size=1024, shuffle=False, collate_fn=collate_fn)\n",
        "\n",
        "print(f\"Training dataset size: {len(train_dataset)}\")\n",
        "print(f\"Testing dataset size: {len(test_dataset)}\")"
      ]
    },
    {
      "cell_type": "code",
      "execution_count": null,
      "id": "8zoH046EjBDR",
      "metadata": {
        "colab": {
          "base_uri": "https://localhost:8080/"
        },
        "id": "8zoH046EjBDR",
        "outputId": "0c243643-114e-4a4e-e4e3-e494c30ad7e5"
      },
      "outputs": [
        {
          "output_type": "stream",
          "name": "stdout",
          "text": [
            "Features data shape: torch.Size([1024, 67, 4]) Label: torch.Size([1024])\n",
            "Features data shape: torch.Size([1024, 67, 4]) Label: torch.Size([1024])\n",
            "Features data shape: torch.Size([1024, 67, 4]) Label: torch.Size([1024])\n",
            "Features data shape: torch.Size([1024, 67, 4]) Label: torch.Size([1024])\n",
            "Features data shape: torch.Size([1024, 67, 4]) Label: torch.Size([1024])\n",
            "Features data shape: torch.Size([1024, 67, 4]) Label: torch.Size([1024])\n",
            "Features data shape: torch.Size([1024, 67, 4]) Label: torch.Size([1024])\n",
            "Features data shape: torch.Size([1024, 67, 4]) Label: torch.Size([1024])\n",
            "Features data shape: torch.Size([1024, 67, 4]) Label: torch.Size([1024])\n",
            "Features data shape: torch.Size([1024, 67, 4]) Label: torch.Size([1024])\n",
            "Features data shape: torch.Size([1024, 67, 4]) Label: torch.Size([1024])\n",
            "Features data shape: torch.Size([1024, 67, 4]) Label: torch.Size([1024])\n",
            "Features data shape: torch.Size([1024, 67, 4]) Label: torch.Size([1024])\n",
            "Features data shape: torch.Size([1024, 67, 4]) Label: torch.Size([1024])\n",
            "Features data shape: torch.Size([1024, 67, 4]) Label: torch.Size([1024])\n",
            "Features data shape: torch.Size([1024, 67, 4]) Label: torch.Size([1024])\n",
            "Features data shape: torch.Size([1024, 67, 4]) Label: torch.Size([1024])\n",
            "Features data shape: torch.Size([1024, 67, 4]) Label: torch.Size([1024])\n",
            "Features data shape: torch.Size([1024, 67, 4]) Label: torch.Size([1024])\n",
            "Features data shape: torch.Size([1024, 67, 4]) Label: torch.Size([1024])\n",
            "Features data shape: torch.Size([1024, 67, 4]) Label: torch.Size([1024])\n",
            "Features data shape: torch.Size([1024, 67, 4]) Label: torch.Size([1024])\n",
            "Features data shape: torch.Size([1024, 67, 4]) Label: torch.Size([1024])\n",
            "Features data shape: torch.Size([1024, 67, 4]) Label: torch.Size([1024])\n",
            "Features data shape: torch.Size([1024, 67, 4]) Label: torch.Size([1024])\n",
            "Features data shape: torch.Size([1024, 67, 4]) Label: torch.Size([1024])\n",
            "Features data shape: torch.Size([215, 67, 4]) Label: torch.Size([215])\n"
          ]
        }
      ],
      "source": [
        "for x_batch, y_batch in train_dataloader:\n",
        "  print(\"Features data shape:\", x_batch.shape, \"Label:\", y_batch.shape)\n",
        "  # break"
      ]
    },
    {
      "cell_type": "code",
      "execution_count": null,
      "id": "367SoEZpiUI9",
      "metadata": {
        "colab": {
          "base_uri": "https://localhost:8080/"
        },
        "id": "367SoEZpiUI9",
        "outputId": "bc261642-5564-41db-8660-b97b98e83cce"
      },
      "outputs": [
        {
          "output_type": "stream",
          "name": "stdout",
          "text": [
            "Features data shape: torch.Size([207, 67, 4]) Label: torch.Size([207])\n"
          ]
        }
      ],
      "source": [
        "for x_batch, y_batch in test_dataloader:\n",
        "  print(\"Features data shape:\", x_batch.shape, \"Label:\", y_batch.shape)\n",
        "  # break"
      ]
    },
    {
      "cell_type": "markdown",
      "source": [
        "Model Building and Training"
      ],
      "metadata": {
        "id": "XHWQeurk0Em8"
      },
      "id": "XHWQeurk0Em8"
    },
    {
      "cell_type": "code",
      "source": [
        "from torch import nn"
      ],
      "metadata": {
        "id": "XpYMqUs5s3bt"
      },
      "id": "XpYMqUs5s3bt",
      "execution_count": null,
      "outputs": []
    },
    {
      "cell_type": "code",
      "execution_count": null,
      "id": "b914c4a6",
      "metadata": {
        "id": "b914c4a6"
      },
      "outputs": [],
      "source": [
        "class MyModel(nn.Module):\n",
        "  def __init__(self, input_size, hidden_sizes, dropout_rates, output_size):\n",
        "    super().__init__()\n",
        "\n",
        "    classifier_layers = [nn.Flatten()]\n",
        "\n",
        "    for size, rate in zip(hidden_sizes, dropout_rates):\n",
        "      classifier_layers.extend([\n",
        "          nn.Linear(input_size, size),\n",
        "          nn.BatchNorm1d(size),\n",
        "          nn.ReLU(),\n",
        "          nn.Dropout(rate)\n",
        "      ])\n",
        "\n",
        "      input_size = size\n",
        "\n",
        "    classifier_layers.append(nn.Linear(input_size, output_size))\n",
        "\n",
        "    self.classifier = nn.Sequential(*classifier_layers)\n",
        "\n",
        "\n",
        "  def forward(self, x):\n",
        "    out = self.classifier(x)\n",
        "    return out"
      ]
    },
    {
      "cell_type": "code",
      "execution_count": null,
      "id": "39c4f2ca",
      "metadata": {
        "id": "39c4f2ca"
      },
      "outputs": [],
      "source": [
        "learning_rate = 1e-3\n",
        "\n",
        "epochs = 200\n",
        "batch_size = 1024\n",
        "steps_per_epoch = len(train_dataloader)\n",
        "\n",
        "num_nodes = 21 + 21 + 25\n",
        "# input_size = 64 * 64\n",
        "output_size = num_classes\n",
        "\n",
        "in_channels = 3"
      ]
    },
    {
      "cell_type": "code",
      "source": [
        "def evaluate(model, data_loader, num_nodes, in_channels, total_size, batch_size, criterion):\n",
        "  model.eval()\n",
        "  total_correct = 0\n",
        "  total_loss = 0\n",
        "\n",
        "  with torch.no_grad():\n",
        "    for features, labels in data_loader:\n",
        "      features, labels = features[:, :num_nodes, :in_channels].to(device), labels.to(device)\n",
        "\n",
        "      outputs = model(features)\n",
        "      loss = criterion(outputs, labels)\n",
        "      total_loss += loss.item()\n",
        "\n",
        "      _, predicted = torch.max(outputs, 1)\n",
        "\n",
        "      total_correct += (predicted == labels).sum().item()\n",
        "\n",
        "      # del features, labels\n",
        "      # torch.cuda.empty_cache()\n",
        "      # gc.collect()\n",
        "\n",
        "  accuracy = total_correct / total_size\n",
        "  avg_loss = total_loss / len(data_loader)\n",
        "  return avg_loss, accuracy"
      ],
      "metadata": {
        "id": "J2jNkwgcjz5l"
      },
      "id": "J2jNkwgcjz5l",
      "execution_count": null,
      "outputs": []
    },
    {
      "cell_type": "code",
      "execution_count": null,
      "id": "d5366e28",
      "metadata": {
        "id": "d5366e28"
      },
      "outputs": [],
      "source": [
        "from torch.optim.lr_scheduler import OneCycleLR\n",
        "\n",
        "model = MyModel(\n",
        "    in_channels * num_nodes,\n",
        "    # [2048, 960], [0.3, 0.3],\n",
        "    [1472, 3520], [0.2, 0.2],\n",
        "    output_size\n",
        ")\n",
        "\n",
        "criterion = nn.CrossEntropyLoss(label_smoothing=0.1)\n",
        "optimizer = torch.optim.Adam(model.parameters(), lr=learning_rate, weight_decay=0.005)\n",
        "\n",
        "scheduler = OneCycleLR(optimizer, max_lr=learning_rate, steps_per_epoch=steps_per_epoch, epochs=epochs)\n",
        "\n",
        "model = model.to(device)"
      ]
    },
    {
      "cell_type": "code",
      "source": [
        "model.train()"
      ],
      "metadata": {
        "colab": {
          "base_uri": "https://localhost:8080/"
        },
        "id": "n6r5eHZyhRfB",
        "outputId": "111c4ab5-9b66-4e0b-9ed4-6c980c6deebb"
      },
      "id": "n6r5eHZyhRfB",
      "execution_count": null,
      "outputs": [
        {
          "output_type": "execute_result",
          "data": {
            "text/plain": [
              "MyModel(\n",
              "  (classifier): Sequential(\n",
              "    (0): Flatten(start_dim=1, end_dim=-1)\n",
              "    (1): Linear(in_features=201, out_features=1472, bias=True)\n",
              "    (2): BatchNorm1d(1472, eps=1e-05, momentum=0.1, affine=True, track_running_stats=True)\n",
              "    (3): ReLU()\n",
              "    (4): Dropout(p=0.2, inplace=False)\n",
              "    (5): Linear(in_features=1472, out_features=3520, bias=True)\n",
              "    (6): BatchNorm1d(3520, eps=1e-05, momentum=0.1, affine=True, track_running_stats=True)\n",
              "    (7): ReLU()\n",
              "    (8): Dropout(p=0.2, inplace=False)\n",
              "    (9): Linear(in_features=3520, out_features=114, bias=True)\n",
              "  )\n",
              ")"
            ]
          },
          "metadata": {},
          "execution_count": 39
        }
      ]
    },
    {
      "cell_type": "code",
      "execution_count": null,
      "id": "c8U85TXRlYxg",
      "metadata": {
        "id": "c8U85TXRlYxg",
        "colab": {
          "base_uri": "https://localhost:8080/"
        },
        "outputId": "754964d3-a75f-414c-b3c6-0dcc83e3c069"
      },
      "outputs": [
        {
          "output_type": "stream",
          "name": "stdout",
          "text": [
            "Epoch 1/200, Loss: 4.473265965779622, LR: 4.065863601199562e-05\n",
            "Epoch 2/200, Loss: 4.042995611826579, LR: 4.2632736542164845e-05\n",
            "Epoch 3/200, Loss: 3.818350668306704, LR: 4.591688403342211e-05\n",
            "Epoch 4/200, Loss: 3.648067968863028, LR: 5.050206574490725e-05\n",
            "Epoch 5/200, Loss: 3.4959304244429976, LR: 5.6375698485800776e-05\n",
            "Epoch 6/200, Loss: 3.3338010134520353, LR: 6.352166314758424e-05\n",
            "Epoch 7/200, Loss: 3.1692130212430603, LR: 7.192034893997962e-05\n",
            "Epoch 8/200, Loss: 3.0098040015609175, LR: 8.154870720916913e-05\n",
            "Epoch 9/200, Loss: 2.8459612440179893, LR: 9.238031469060092e-05\n",
            "Epoch 10/200, Loss: 2.6797915917855724, LR: 0.00010438544602279522\n",
            "Epoch 11/200, Loss: 2.5325819386376276, LR: 0.00011753115532315173\n",
            "Epoch 12/200, Loss: 2.3894759813944497, LR: 0.0001317813666018849\n",
            "Epoch 13/200, Loss: 2.2737576255091914, LR: 0.00014709697276596727\n",
            "Epoch 14/200, Loss: 2.157375353353995, LR: 0.00016343594294137686\n",
            "Epoch 15/200, Loss: 2.0586744061222784, LR: 0.00018075343781912825\n",
            "Epoch 16/200, Loss: 1.9776965512169733, LR: 0.00019900193270853842\n",
            "Epoch 17/200, Loss: 1.9012472850305062, LR: 0.0002181313479600284\n",
            "Epoch 18/200, Loss: 1.8521831123917192, LR: 0.00023808918639954383\n",
            "Epoch 19/200, Loss: 1.7963806479065507, LR: 0.000258820677397427\n",
            "Epoch 20/200, Loss: 1.7608470872596458, LR: 0.00028026892717637145\n",
            "Epoch 21/200, Loss: 1.7287307050493028, LR: 0.0003023750749459657\n",
            "Epoch 22/200, Loss: 1.7094468275705974, LR: 0.0003250784544353454\n",
            "Epoch 23/200, Loss: 1.7007154358757868, LR: 0.00034831676038065296\n",
            "Epoch 24/200, Loss: 1.6827836213288483, LR: 0.0003720262195104165\n",
            "Epoch 25/200, Loss: 1.6747321994216353, LR: 0.00039614176555960315\n",
            "Epoch 26/200, Loss: 1.6731860372755263, LR: 0.00042059721783205923\n",
            "Epoch 27/200, Loss: 1.6735685313189472, LR: 0.00044532546282130016\n",
            "Epoch 28/200, Loss: 1.6450393155769065, LR: 0.00047025863839122853\n",
            "Epoch 29/200, Loss: 1.6619763992450856, LR: 0.0004953283200113287\n",
            "Epoch 30/200, Loss: 1.6637773248884413, LR: 0.0005204657085352497\n",
            "Epoch 31/200, Loss: 1.664734169288918, LR: 0.0005456018190074523\n",
            "Epoch 32/200, Loss: 1.6658410981849388, LR: 0.0005706676699797763\n",
            "Epoch 33/200, Loss: 1.6477705593462344, LR: 0.0005955944728183809\n",
            "Epoch 34/200, Loss: 1.6509453234849152, LR: 0.0006203138204815438\n",
            "Epoch 35/200, Loss: 1.6642217768563166, LR: 0.0006447578752502483\n",
            "Epoch 36/200, Loss: 1.6804124381807115, LR: 0.0006688595548963702\n",
            "Epoch 37/200, Loss: 1.6767563864036843, LR: 0.0006925527167775569\n",
            "Epoch 38/200, Loss: 1.664372514795374, LR: 0.0007157723393535879\n",
            "Epoch 39/200, Loss: 1.6619041010185525, LR: 0.0007384547006260735\n",
            "Epoch 40/200, Loss: 1.6610023710462782, LR: 0.0007605375530118003\n",
            "Epoch 41/200, Loss: 1.6708588511855513, LR: 0.0007819602941698153\n",
            "Epoch 42/200, Loss: 1.6399269898732503, LR: 0.0008026641333134415\n",
            "Epoch 43/200, Loss: 1.68179984887441, LR: 0.0008225922525508189\n",
            "Epoch 44/200, Loss: 1.7074833357775654, LR: 0.0008416899628111928\n",
            "Epoch 45/200, Loss: 1.706111890298349, LR: 0.0008599048539290458\n",
            "Epoch 46/200, Loss: 1.691062498975683, LR: 0.0008771869384741912\n",
            "Epoch 47/200, Loss: 1.6739834149678547, LR: 0.0008934887889331134\n",
            "Epoch 48/200, Loss: 1.6662819738741275, LR: 0.0009087656678650856\n",
            "Epoch 49/200, Loss: 1.6878141517992373, LR: 0.0009229756506758767\n",
            "Epoch 50/200, Loss: 1.7013479206297133, LR: 0.0009360797406721154\n",
            "Epoch 51/200, Loss: 1.705077467141328, LR: 0.0009480419760805689\n",
            "Epoch 52/200, Loss: 1.707769027462712, LR: 0.0009588295287386371\n",
            "Epoch 53/200, Loss: 1.718964413360313, LR: 0.000968412794185229\n",
            "Epoch 54/200, Loss: 1.724150913733023, LR: 0.000976765472904779\n",
            "Epoch 55/200, Loss: 1.7124918655112937, LR: 0.0009838646425014486\n",
            "Epoch 56/200, Loss: 1.730620958186962, LR: 0.0009896908206054394\n",
            "Epoch 57/200, Loss: 1.7212400877917255, LR: 0.000994228018338786\n",
            "Epoch 58/200, Loss: 1.7353599733776517, LR: 0.0009974637841939026\n",
            "Epoch 59/200, Loss: 1.7464412539093583, LR: 0.0009993892382044614\n",
            "Epoch 60/200, Loss: 1.7193815840615168, LR: 0.0009999998273150885\n",
            "Epoch 61/200, Loss: 1.7325131054277774, LR: 0.0009998646211312485\n",
            "Epoch 62/200, Loss: 1.7441075687055234, LR: 0.0009994777190643126\n",
            "Epoch 63/200, Loss: 1.7559677362442017, LR: 0.0009988393159311231\n",
            "Epoch 64/200, Loss: 1.7370511602472376, LR: 0.000997949733186883\n",
            "Epoch 65/200, Loss: 1.741576667185183, LR: 0.000996809418763294\n",
            "Epoch 66/200, Loss: 1.758481573175501, LR: 0.0009954189468430086\n",
            "Epoch 67/200, Loss: 1.7536313710389313, LR: 0.000993779017570513\n",
            "Epoch 68/200, Loss: 1.755316835862619, LR: 0.0009918904566995823\n",
            "Epoch 69/200, Loss: 1.7519661762096264, LR: 0.000989754215177489\n",
            "Epoch 70/200, Loss: 1.7646576122001365, LR: 0.0009873713686661722\n",
            "Epoch 71/200, Loss: 1.7630663183000352, LR: 0.0009847431170006099\n",
            "Epoch 72/200, Loss: 1.7615801449175235, LR: 0.0009818707835846656\n",
            "Epoch 73/200, Loss: 1.7696954056068703, LR: 0.0009787558147247141\n",
            "Epoch 74/200, Loss: 1.7710882425308228, LR: 0.0009753997789013838\n",
            "Epoch 75/200, Loss: 1.7818260237022683, LR: 0.0009718043659797789\n",
            "Epoch 76/200, Loss: 1.7782593435711331, LR: 0.0009679713863585812\n",
            "Epoch 77/200, Loss: 1.7835185218740393, LR: 0.0009639027700584599\n",
            "Epoch 78/200, Loss: 1.775540758062292, LR: 0.0009596005657502489\n",
            "Epoch 79/200, Loss: 1.7955828640196059, LR: 0.0009550669397233775\n",
            "Epoch 80/200, Loss: 1.7779475097303037, LR: 0.0009503041747950809\n",
            "Epoch 81/200, Loss: 1.7764820478580616, LR: 0.0009453146691609309\n",
            "Epoch 82/200, Loss: 1.7868705149050113, LR: 0.000940100935187273\n",
            "Epoch 83/200, Loss: 1.7806334186483312, LR: 0.0009346655981461748\n",
            "Epoch 84/200, Loss: 1.7933430009418063, LR: 0.0009290113948935216\n",
            "Epoch 85/200, Loss: 1.7838552307199549, LR: 0.0009231411724909271\n",
            "Epoch 86/200, Loss: 1.7891021922782615, LR: 0.0009170578867721529\n",
            "Epoch 87/200, Loss: 1.7886398324260004, LR: 0.0009107646008547564\n",
            "Epoch 88/200, Loss: 1.804749537397314, LR: 0.0009042644835977189\n",
            "Epoch 89/200, Loss: 1.7844848853570443, LR: 0.0008975608080058308\n",
            "Epoch 90/200, Loss: 1.7805273179654721, LR: 0.0008906569495816335\n",
            "Epoch 91/200, Loss: 1.7880908074202362, LR: 0.0008835563846257532\n",
            "Epoch 92/200, Loss: 1.7806313655994557, LR: 0.0008762626884864784\n",
            "Epoch 93/200, Loss: 1.7660050524605646, LR: 0.0008687795337594652\n",
            "Epoch 94/200, Loss: 1.7694408540372495, LR: 0.0008611106884384733\n",
            "Epoch 95/200, Loss: 1.7803473251837272, LR: 0.0008532600140180694\n",
            "Epoch 96/200, Loss: 1.762437242048758, LR: 0.000845231463549247\n",
            "Epoch 97/200, Loss: 1.765306795084918, LR: 0.0008370290796489465\n",
            "Epoch 98/200, Loss: 1.753572596444024, LR: 0.0008286569924644768\n",
            "Epoch 99/200, Loss: 1.7518923106016937, LR: 0.0008201194175938607\n",
            "Epoch 100/200, Loss: 1.7537749431751393, LR: 0.000811420653963154\n",
            "Epoch 101/200, Loss: 1.7619870018076014, LR: 0.0008025650816618084\n",
            "Epoch 102/200, Loss: 1.7526759968863592, LR: 0.0007935571597371628\n",
            "Epoch 103/200, Loss: 1.7453409212606925, LR: 0.0007844014239491796\n",
            "Epoch 104/200, Loss: 1.7363639805052016, LR: 0.0007751024844865532\n",
            "Epoch 105/200, Loss: 1.7458874737774883, LR: 0.0007656650236453404\n",
            "Epoch 106/200, Loss: 1.7415192392137315, LR: 0.0007560937934712836\n",
            "Epoch 107/200, Loss: 1.7350838360963043, LR: 0.000746393613367013\n",
            "Epoch 108/200, Loss: 1.7282011464790061, LR: 0.0007365693676653321\n",
            "Epoch 109/200, Loss: 1.7208039937195954, LR: 0.0007266260031698082\n",
            "Epoch 110/200, Loss: 1.720639047799287, LR: 0.0007165685266639096\n",
            "Epoch 111/200, Loss: 1.7220672633912828, LR: 0.0007064020023899378\n",
            "Epoch 112/200, Loss: 1.7154849237865872, LR: 0.0006961315494990291\n",
            "Epoch 113/200, Loss: 1.72163247179102, LR: 0.0006857623394735088\n",
            "Epoch 114/200, Loss: 1.717941853735182, LR: 0.0006752995935228937\n",
            "Epoch 115/200, Loss: 1.713063085520709, LR: 0.0006647485799548549\n",
            "Epoch 116/200, Loss: 1.702065180849146, LR: 0.0006541146115224677\n",
            "Epoch 117/200, Loss: 1.6962256696489122, LR: 0.0006434030427490796\n",
            "Epoch 118/200, Loss: 1.695950079847265, LR: 0.0006326192672321471\n",
            "Epoch 119/200, Loss: 1.6865685515933566, LR: 0.0006217687149273957\n",
            "Epoch 120/200, Loss: 1.6839400088345562, LR: 0.0006108568494146754\n",
            "Epoch 121/200, Loss: 1.6729307836956449, LR: 0.0005998891651468824\n",
            "Epoch 122/200, Loss: 1.6684078772862752, LR: 0.0005888711846833375\n",
            "Epoch 123/200, Loss: 1.6641109740292583, LR: 0.0005778084559090101\n",
            "Epoch 124/200, Loss: 1.6620536645253499, LR: 0.000566706549240992\n",
            "Epoch 125/200, Loss: 1.6634234454896715, LR: 0.0005555710548236246\n",
            "Epoch 126/200, Loss: 1.6625423828760784, LR: 0.0005444075797136921\n",
            "Epoch 127/200, Loss: 1.6536706421110365, LR: 0.0005332217450571004\n",
            "Epoch 128/200, Loss: 1.6435876025093927, LR: 0.0005220191832584601\n",
            "Epoch 129/200, Loss: 1.6391134394539728, LR: 0.000510805535145002\n",
            "Epoch 130/200, Loss: 1.6371243794759114, LR: 0.0004995864471262501\n",
            "Epoch 131/200, Loss: 1.6350245740678575, LR: 0.0004883675683508846\n",
            "Epoch 132/200, Loss: 1.6307787012170862, LR: 0.00047715454786222513\n",
            "Epoch 133/200, Loss: 1.622741981788918, LR: 0.0004659530317537677\n",
            "Epoch 134/200, Loss: 1.6168158010200218, LR: 0.0004547686603262064\n",
            "Epoch 135/200, Loss: 1.6169466663289953, LR: 0.0004436070652473725\n",
            "Epoch 136/200, Loss: 1.610111951828003, LR: 0.00043247386671651914\n",
            "Epoch 137/200, Loss: 1.6094272401597765, LR: 0.0004213746706343829\n",
            "Epoch 138/200, Loss: 1.5984873727515891, LR: 0.0004103150657804431\n",
            "Epoch 139/200, Loss: 1.591817158239859, LR: 0.0003993006209988038\n",
            "Epoch 140/200, Loss: 1.5962925796155576, LR: 0.00038833688239411245\n",
            "Epoch 141/200, Loss: 1.5892610549926758, LR: 0.00037742937053892906\n",
            "Epoch 142/200, Loss: 1.568103379673428, LR: 0.00036658357769395243\n",
            "Epoch 143/200, Loss: 1.5748089816835191, LR: 0.00035580496504250086\n",
            "Epoch 144/200, Loss: 1.566166188981798, LR: 0.00034509895994064245\n",
            "Epoch 145/200, Loss: 1.5645507044262357, LR: 0.00033447095318435676\n",
            "Epoch 146/200, Loss: 1.5610696783772222, LR: 0.0003239262962951081\n",
            "Epoch 147/200, Loss: 1.5590647591484919, LR: 0.00031347029882519223\n",
            "Epoch 148/200, Loss: 1.548242904521801, LR: 0.0003031082256842177\n",
            "Epoch 149/200, Loss: 1.5434669212058738, LR: 0.0002928452944880647\n",
            "Epoch 150/200, Loss: 1.5421519058722037, LR: 0.0002826866729316584\n",
            "Epoch 151/200, Loss: 1.5405793940579449, LR: 0.00027263747618687915\n",
            "Epoch 152/200, Loss: 1.5228757637518424, LR: 0.00026270276432691927\n",
            "Epoch 153/200, Loss: 1.5160214547757749, LR: 0.00025288753977838435\n",
            "Epoch 154/200, Loss: 1.5150019460254245, LR: 0.00024319674480241982\n",
            "Epoch 155/200, Loss: 1.5170892830248233, LR: 0.00023363525900613408\n",
            "Epoch 156/200, Loss: 1.510466703662166, LR: 0.0002242078968855694\n",
            "Epoch 157/200, Loss: 1.5058031302911263, LR: 0.00021491940540145884\n",
            "Epoch 158/200, Loss: 1.498375583578039, LR: 0.0002057744615889873\n",
            "Epoch 159/200, Loss: 1.4933859992910314, LR: 0.00019677767020276425\n",
            "Epoch 160/200, Loss: 1.4863376794037995, LR: 0.00018793356139819043\n",
            "Epoch 161/200, Loss: 1.4816269874572754, LR: 0.0001792465884503898\n",
            "Epoch 162/200, Loss: 1.4792507975189775, LR: 0.00017072112551184935\n",
            "Epoch 163/200, Loss: 1.473764763938056, LR: 0.00016236146540990308\n",
            "Epoch 164/200, Loss: 1.4656993327317414, LR: 0.00015417181748516302\n",
            "Epoch 165/200, Loss: 1.4637093632309526, LR: 0.00014615630547199044\n",
            "Epoch 166/200, Loss: 1.46193031028465, LR: 0.00013831896542207127\n",
            "Epoch 167/200, Loss: 1.4593951216450445, LR: 0.00013066374367214206\n",
            "Epoch 168/200, Loss: 1.4534811929420188, LR: 0.00012319449485689055\n",
            "Epoch 169/200, Loss: 1.4435600925374914, LR: 0.00011591497996803143\n",
            "Epoch 170/200, Loss: 1.4380378678992942, LR: 0.00010882886446053421\n",
            "Epoch 171/200, Loss: 1.4375473614092227, LR: 0.00010193971640695492\n",
            "Epoch 172/200, Loss: 1.4333374853487368, LR: 9.525100470080524e-05\n",
            "Epoch 173/200, Loss: 1.4297951548187822, LR: 8.87660973098594e-05\n",
            "Epoch 174/200, Loss: 1.425306545363532, LR: 8.248825958028199e-05\n",
            "Epoch 175/200, Loss: 1.4169949337288186, LR: 7.642065259242669e-05\n",
            "Epoch 176/200, Loss: 1.4163122088820845, LR: 7.056633156913788e-05\n",
            "Epoch 177/200, Loss: 1.412613281497249, LR: 6.492824433735344e-05\n",
            "Epoch 178/200, Loss: 1.4097937080595229, LR: 5.9509229843785506e-05\n",
            "Epoch 179/200, Loss: 1.4010874342035364, LR: 5.431201672542526e-05\n",
            "Epoch 180/200, Loss: 1.403996401362949, LR: 4.9339221935591754e-05\n",
            "Epoch 181/200, Loss: 1.3998358514573839, LR: 4.4593349426217424e-05\n",
            "Epoch 182/200, Loss: 1.3975075395018965, LR: 4.007678888703232e-05\n",
            "Epoch 183/200, Loss: 1.3879594052279438, LR: 3.5791814542284415e-05\n",
            "Epoch 184/200, Loss: 1.3910251414334331, LR: 3.174058400559804e-05\n",
            "Epoch 185/200, Loss: 1.389884140756395, LR: 2.792513719355134e-05\n",
            "Epoch 186/200, Loss: 1.3818838861253526, LR: 2.4347395298516118e-05\n",
            "Epoch 187/200, Loss: 1.3775611586040921, LR: 2.1009159821280178e-05\n",
            "Epoch 188/200, Loss: 1.381568396532977, LR: 1.791211166393741e-05\n",
            "Epoch 189/200, Loss: 1.3797534792511552, LR: 1.5057810283502494e-05\n",
            "Epoch 190/200, Loss: 1.3775484870981287, LR: 1.2447692906677713e-05\n",
            "Epoch 191/200, Loss: 1.3737020978221186, LR: 1.0083073806165921e-05\n",
            "Epoch 192/200, Loss: 1.3712414591400712, LR: 7.965143638894826e-06\n",
            "Epoch 193/200, Loss: 1.373898188273112, LR: 6.094968846484965e-06\n",
            "Epoch 194/200, Loss: 1.3724636722494055, LR: 4.473491118264679e-06\n",
            "Epoch 195/200, Loss: 1.3716351721021864, LR: 3.1015269171008054e-06\n",
            "Epoch 196/200, Loss: 1.3698457302870575, LR: 1.979767068285461e-06\n",
            "Epoch 197/200, Loss: 1.3701218366622925, LR: 1.1087764116841826e-06\n",
            "Epoch 198/200, Loss: 1.3701656836050529, LR: 4.889935173225199e-07\n",
            "Epoch 199/200, Loss: 1.3644846147961087, LR: 1.207304645525129e-07\n",
            "Epoch 200/200, Loss: 1.3683853061110884, LR: 4.1726849114642154e-09\n"
          ]
        }
      ],
      "source": [
        "train_losses = []\n",
        "test_losses = []\n",
        "\n",
        "for epoch in range(epochs):\n",
        "  total_loss = 0\n",
        "\n",
        "  for features, labels in train_dataloader:\n",
        "    model.train()\n",
        "    features, labels = features[:, :num_nodes, :in_channels].to(device), labels.to(device)\n",
        "\n",
        "    optimizer.zero_grad()\n",
        "\n",
        "    outputs = model(features)\n",
        "\n",
        "    loss = criterion(outputs, labels)\n",
        "    total_loss += loss.item()\n",
        "\n",
        "    # del features, labels\n",
        "    # torch.cuda.empty_cache()\n",
        "    # gc.collect()\n",
        "\n",
        "    loss.backward()\n",
        "    optimizer.step()\n",
        "    scheduler.step()\n",
        "\n",
        "  train_losses.append(total_loss/len(train_dataloader))\n",
        "\n",
        "  test_loss, _ = evaluate(model, test_dataloader, num_nodes, in_channels, len(test_dataset), batch_size, criterion)\n",
        "  test_losses.append(test_loss)\n",
        "\n",
        "  print(f\"Epoch {epoch + 1}/{epochs}, Loss: {total_loss/steps_per_epoch}, LR: {scheduler.get_last_lr()[0]}\")"
      ]
    },
    {
      "cell_type": "code",
      "source": [
        "# Loss Visualization over Epochs\n",
        "import matplotlib.pyplot as plt\n",
        "\n",
        "plt.plot(train_losses, label='Train Loss')\n",
        "plt.plot(test_losses, label='Test Loss')\n",
        "plt.xlabel('Epoch')\n",
        "plt.ylabel('Loss')\n",
        "plt.legend()\n",
        "plt.title('Loss vs Epoch')\n",
        "plt.show()"
      ],
      "metadata": {
        "colab": {
          "base_uri": "https://localhost:8080/",
          "height": 472
        },
        "id": "FV9FGK0bhoKp",
        "outputId": "596c0c17-581c-431c-e3f2-91539510adb9"
      },
      "id": "FV9FGK0bhoKp",
      "execution_count": null,
      "outputs": [
        {
          "output_type": "display_data",
          "data": {
            "text/plain": [
              "<Figure size 640x480 with 1 Axes>"
            ],
            "image/png": "[encoded data removed]"
          },
          "metadata": {}
        }
      ]
    },
    {
      "cell_type": "markdown",
      "source": [
        "Model Evaluation and Predction"
      ],
      "metadata": {
        "id": "7q8TsMBM0J8A"
      },
      "id": "7q8TsMBM0J8A"
    },
    {
      "cell_type": "code",
      "execution_count": null,
      "id": "819bb71d",
      "metadata": {
        "id": "819bb71d",
        "colab": {
          "base_uri": "https://localhost:8080/"
        },
        "outputId": "028cf68b-e68c-4d40-f1f4-7074f686aad8"
      },
      "outputs": [
        {
          "output_type": "stream",
          "name": "stdout",
          "text": [
            "Test Loss: 2.9747917652130127\n",
            "Test Accuracy: 0.3864734299516908\n"
          ]
        }
      ],
      "source": [
        "test_loss, test_accuracy = evaluate(model, test_dataloader, num_nodes, in_channels, len(test_dataset), 256, criterion)\n",
        "print(f\"Test Loss: {test_loss}\")\n",
        "print(f\"Test Accuracy: {test_accuracy}\")"
      ]
    },
    {
      "cell_type": "code",
      "source": [
        "train_loss, train_accuracy = evaluate(model, train_dataloader, num_nodes, in_channels, len(train_dataset), 256, criterion)\n",
        "print(f\"Train Loss: {train_loss}\")\n",
        "print(f\"Train Accuracy: {train_accuracy}\")"
      ],
      "metadata": {
        "colab": {
          "base_uri": "https://localhost:8080/"
        },
        "id": "ERerfYzVcx8S",
        "outputId": "3700b4c7-89cb-4afe-c5fd-e0986699ae6d"
      },
      "id": "ERerfYzVcx8S",
      "execution_count": null,
      "outputs": [
        {
          "output_type": "stream",
          "name": "stdout",
          "text": [
            "Train Loss: 1.2941197686725192\n",
            "Train Accuracy: 0.9107269272327583\n"
          ]
        }
      ]
    },
    {
      "cell_type": "markdown",
      "source": [
        "Saving the Model"
      ],
      "metadata": {
        "id": "6Mwq9AUx3-vx"
      },
      "id": "6Mwq9AUx3-vx"
    },
    {
      "cell_type": "code",
      "execution_count": null,
      "id": "SomvO4vokxe_",
      "metadata": {
        "colab": {
          "base_uri": "https://localhost:8080/"
        },
        "id": "SomvO4vokxe_",
        "outputId": "d9e95e88-03db-4ac9-ba00-5c8d7fe2a672"
      },
      "outputs": [
        {
          "output_type": "stream",
          "name": "stdout",
          "text": [
            "Model saved to /content/drive/MyDrive/Sign-Language-Translator/saved_models/word_level_model_states_v3.pth\n"
          ]
        }
      ],
      "source": [
        "import os\n",
        "\n",
        "# Create the directory if it doesn't exist\n",
        "save_directory = '/content/drive/MyDrive/Sign-Language-Translator/saved_models'\n",
        "os.makedirs(save_directory, exist_ok=True)\n",
        "\n",
        "# Save the entire model with .pth extension\n",
        "model_path = os.path.join(save_directory, 'word_level_model_states_v3.pth')\n",
        "torch.save(model.state_dict(), model_path)\n",
        "print(f\"Model saved to {model_path}\")"
      ]
    },
    {
      "cell_type": "markdown",
      "source": [
        "Hyperparameter Tuning using Optuna"
      ],
      "metadata": {
        "id": "HO5n6CzIEej_"
      },
      "id": "HO5n6CzIEej_"
    },
    {
      "cell_type": "code",
      "source": [
        "!pip install optuna"
      ],
      "metadata": {
        "id": "Mb9jhzte26oc"
      },
      "id": "Mb9jhzte26oc",
      "execution_count": null,
      "outputs": []
    },
    {
      "cell_type": "code",
      "source": [
        "import optuna"
      ],
      "metadata": {
        "id": "WxFtan-dEhUe"
      },
      "id": "WxFtan-dEhUe",
      "execution_count": null,
      "outputs": []
    },
    {
      "cell_type": "code",
      "source": [
        "study = optuna.create_study(direction='maximize', sampler=optuna.samplers.TPESampler())"
      ],
      "metadata": {
        "id": "oSp0YO5uEk-1"
      },
      "id": "oSp0YO5uEk-1",
      "execution_count": null,
      "outputs": []
    },
    {
      "cell_type": "code",
      "source": [
        "study = torch.load('/content/drive/MyDrive/Sign-Language-Translator/saved_models/optuna_word_study.pth', weights_only=False)"
      ],
      "metadata": {
        "id": "W11H6SHSAKXs"
      },
      "id": "W11H6SHSAKXs",
      "execution_count": null,
      "outputs": []
    },
    {
      "cell_type": "code",
      "source": [
        "# objective function\n",
        "def objective(trail):\n",
        "  # hyperparameter vaue from search space\n",
        "  num_hidden_layers = trail.suggest_int('num_hidden_layers', 1, 4)\n",
        "\n",
        "  # learning_rate = trail.suggest_float('learning_rate', 1e-4, 1e-2, log=True)\n",
        "  # weight_decay = trail.suggest_float('weight_decay', 1e-4, 1e-2, log=True)\n",
        "  # batch_size = trail.suggest_categorical('batch_size', [256, 512, 1024])\n",
        "  # optimizer_name = trail.suggest_categorical('optimizer', ['Adam', 'SGD', 'RMSProp'])\n",
        "  # epochs = trail.suggest_int('epochs', 80, 150)\n",
        "\n",
        "  in_channels = 3\n",
        "  num_nodes = 67\n",
        "  epochs = 100\n",
        "  optimizer_name = 'Adam'\n",
        "  learning_rate = 1e-3\n",
        "  weight_decay = 0.005\n",
        "  batch_size = 1024\n",
        "\n",
        "  hidden_neurons, dropout_rates = [], []\n",
        "  for _ in range(num_hidden_layers):\n",
        "    hidden_neurons.append(trail.suggest_int(f'hidden_neurons_{_}', 64, 5120, step=64))\n",
        "    dropout_rates.append(trail.suggest_float(f'dropout_rate_{_}', 0.0, 0.5, step=0.05))\n",
        "\n",
        "  # model initialize\n",
        "  model = MyModel(in_channels*num_nodes, hidden_neurons, dropout_rates, output_size)\n",
        "  model.to(device)\n",
        "\n",
        "  # params initialize\n",
        "  criterion = nn.CrossEntropyLoss()\n",
        "\n",
        "  # create data loader\n",
        "  train_loader = DataLoader(train_dataset, batch_size=batch_size, shuffle=True, collate_fn=collate_fn)\n",
        "  test_loader = DataLoader(test_dataset, batch_size=batch_size, shuffle=False, collate_fn=collate_fn)\n",
        "\n",
        "  # select optimizer\n",
        "  # optimizer = torch.optim.Adam(model.parameters(), lr=learning_rate, weight_decay=weight_decay)\n",
        "\n",
        "  if optimizer_name == 'Adam':\n",
        "    optimizer = torch.optim.Adam(model.parameters(), lr=learning_rate, weight_decay=weight_decay)\n",
        "  elif optimizer_name == 'SGD':\n",
        "    optimizer = torch.optim.SGD(model.parameters(), lr=learning_rate, weight_decay=weight_decay)\n",
        "  else:\n",
        "    optimizer = torch.optim.RMSprop(model.parameters(), lr=learning_rate, weight_decay=weight_decay)\n",
        "\n",
        "  scheduler = OneCycleLR(optimizer, max_lr=learning_rate, steps_per_epoch=len(train_loader), epochs=epochs)\n",
        "\n",
        "  # training loop\n",
        "  for epoch in range(epochs):\n",
        "    for x_batch, y_batch in train_loader:\n",
        "      x_batch, y_batch = x_batch[:, :num_nodes, :in_channels].to(device), y_batch.to(device)\n",
        "      y_pred = model(x_batch)\n",
        "\n",
        "      loss = criterion(y_pred, y_batch)\n",
        "\n",
        "      optimizer.zero_grad()\n",
        "      loss.backward()\n",
        "      optimizer.step()\n",
        "      scheduler.step()\n",
        "\n",
        "  # evauation\n",
        "  model.eval()\n",
        "  _, accuracy = evaluate(model, test_loader, num_nodes, in_channels, len(test_dataset), batch_size, criterion)\n",
        "\n",
        "  # return accuracy\n",
        "  return accuracy"
      ],
      "metadata": {
        "id": "nsuo2oqZ1r0g"
      },
      "id": "nsuo2oqZ1r0g",
      "execution_count": null,
      "outputs": []
    },
    {
      "cell_type": "code",
      "source": [
        "study.optimize(objective, n_trials=30)"
      ],
      "metadata": {
        "id": "JaFktHO6EzJ3"
      },
      "id": "JaFktHO6EzJ3",
      "execution_count": null,
      "outputs": []
    },
    {
      "cell_type": "code",
      "source": [
        "torch.save(study, '/content/drive/MyDrive/Sign-Language-Translator/saved_models/optuna_word_study.pth')"
      ],
      "metadata": {
        "id": "gAA21rSL_mPU"
      },
      "id": "gAA21rSL_mPU",
      "execution_count": null,
      "outputs": []
    },
    {
      "cell_type": "code",
      "source": [
        "study.best_params"
      ],
      "metadata": {
        "id": "hC9H-hLPp2eB"
      },
      "id": "hC9H-hLPp2eB",
      "execution_count": null,
      "outputs": []
    },
    {
      "cell_type": "code",
      "source": [
        "from optuna.visualization import plot_optimization_history, plot_param_importances, plot_parallel_coordinate, plot_contour"
      ],
      "metadata": {
        "id": "02XqbqouE3k9"
      },
      "id": "02XqbqouE3k9",
      "execution_count": null,
      "outputs": []
    },
    {
      "cell_type": "code",
      "source": [
        "plot_optimization_history(study)"
      ],
      "metadata": {
        "id": "BbqywH22E6Oi"
      },
      "id": "BbqywH22E6Oi",
      "execution_count": null,
      "outputs": []
    },
    {
      "cell_type": "code",
      "source": [
        "plot_param_importances(study)"
      ],
      "metadata": {
        "id": "KB0MI59AOBb0"
      },
      "id": "KB0MI59AOBb0",
      "execution_count": null,
      "outputs": []
    },
    {
      "cell_type": "code",
      "source": [
        "plot_parallel_coordinate(study, params=list(study.best_params.keys()))\n",
        "# learning rate = 0.001\n",
        "# weight decay = 0.008\n",
        "# batch size = 1024\n",
        "# num_hidden_layers = 4\n",
        "# num neurons = 1000 - 3000\n",
        "# dropout = 0.0 - 0.4"
      ],
      "metadata": {
        "id": "xopJwbUhOC7a"
      },
      "id": "xopJwbUhOC7a",
      "execution_count": null,
      "outputs": []
    },
    {
      "cell_type": "markdown",
      "source": [
        "Load and Predict Model"
      ],
      "metadata": {
        "id": "2Pfmc9OsTZf6"
      },
      "id": "2Pfmc9OsTZf6"
    },
    {
      "cell_type": "code",
      "source": [
        "import time"
      ],
      "metadata": {
        "id": "xRelsFCTtdYg"
      },
      "id": "xRelsFCTtdYg",
      "execution_count": null,
      "outputs": []
    },
    {
      "cell_type": "code",
      "source": [
        "save_directory = '/content/drive/MyDrive/Sign-Language-Translator/saved_models'\n",
        "model_path = os.path.join(save_directory, 'word_level_model_states_v3.pth')\n",
        "\n",
        "model = MyModel(\n",
        "    in_channels * num_nodes,\n",
        "    [1472, 3520], [0.2, 0.2],\n",
        "    output_size\n",
        ")\n",
        "model.to(device)\n",
        "\n",
        "model.load_state_dict(torch.load(model_path))\n",
        "model.eval()"
      ],
      "metadata": {
        "colab": {
          "base_uri": "https://localhost:8080/"
        },
        "id": "AFhd_njraOk8",
        "outputId": "4506ba14-e50a-4d91-d922-217e79369df1"
      },
      "id": "AFhd_njraOk8",
      "execution_count": null,
      "outputs": [
        {
          "output_type": "execute_result",
          "data": {
            "text/plain": [
              "MyModel(\n",
              "  (classifier): Sequential(\n",
              "    (0): Flatten(start_dim=1, end_dim=-1)\n",
              "    (1): Linear(in_features=201, out_features=1472, bias=True)\n",
              "    (2): BatchNorm1d(1472, eps=1e-05, momentum=0.1, affine=True, track_running_stats=True)\n",
              "    (3): ReLU()\n",
              "    (4): Dropout(p=0.2, inplace=False)\n",
              "    (5): Linear(in_features=1472, out_features=3520, bias=True)\n",
              "    (6): BatchNorm1d(3520, eps=1e-05, momentum=0.1, affine=True, track_running_stats=True)\n",
              "    (7): ReLU()\n",
              "    (8): Dropout(p=0.2, inplace=False)\n",
              "    (9): Linear(in_features=3520, out_features=114, bias=True)\n",
              "  )\n",
              ")"
            ]
          },
          "metadata": {},
          "execution_count": 45
        }
      ]
    },
    {
      "cell_type": "code",
      "source": [
        "def predict_gloss(model, x):\n",
        "  x = x.unsqueeze(0).to(device)\n",
        "\n",
        "  with torch.no_grad():\n",
        "    out = model(x)\n",
        "    out = nn.functional.sigmoid(out)\n",
        "\n",
        "  val, ypred = torch.max(out, 1)\n",
        "  return ypred"
      ],
      "metadata": {
        "id": "LqH7Ka37a1vZ"
      },
      "id": "LqH7Ka37a1vZ",
      "execution_count": null,
      "outputs": []
    },
    {
      "cell_type": "code",
      "source": [
        "# measuring time\n",
        "start = time.time()\n",
        "\n",
        "ypred = predict_gloss(model, test_dataset[4][0][:num_nodes, :in_channels])\n",
        "print(\"Predicted Gloss:\", label_to_class[ypred.item()])\n",
        "\n",
        "print(f\"Time taken: {time.time() - start}\")"
      ],
      "metadata": {
        "colab": {
          "base_uri": "https://localhost:8080/"
        },
        "id": "qictLO_icGZX",
        "outputId": "5ddf1dda-f4e0-4f63-db00-5fb4e9e479be"
      },
      "id": "qictLO_icGZX",
      "execution_count": null,
      "outputs": [
        {
          "output_type": "stream",
          "name": "stdout",
          "text": [
            "Predicted Gloss: FEVER\n",
            "Time taken: 0.003254413604736328\n"
          ]
        }
      ]
    }
  ],
  "metadata": {
    "accelerator": "GPU",
    "colab": {
      "gpuType": "T4",
      "provenance": [],
      "include_colab_link": true
    },
    "kernelspec": {
      "display_name": "Python 3",
      "name": "python3"
    },
    "language_info": {
      "codemirror_mode": {
        "name": "ipython",
        "version": 3
      },
      "file_extension": ".py",
      "mimetype": "text/x-python",
      "name": "python",
      "nbconvert_exporter": "python",
      "pygments_lexer": "ipython3",
      "version": "3.12.10"
    }
  },
  "nbformat": 4,
  "nbformat_minor": 5
}